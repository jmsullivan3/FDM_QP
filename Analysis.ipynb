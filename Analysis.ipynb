{
 "cells": [
  {
   "cell_type": "code",
   "execution_count": 1,
   "metadata": {},
   "outputs": [
    {
     "name": "stdout",
     "output_type": "stream",
     "text": [
      "Populating the interactive namespace from numpy and matplotlib\n"
     ]
    }
   ],
   "source": [
    "%pylab inline\n",
    "%matplotlib inline\n",
    "import numpy as np\n",
    "import matplotlib\n",
    "import matplotlib.pyplot as plt\n",
    "from pylab import *\n",
    "import sys"
   ]
  },
  {
   "cell_type": "code",
   "execution_count": 2,
   "metadata": {},
   "outputs": [
    {
     "name": "stdout",
     "output_type": "stream",
     "text": [
      "Populating the interactive namespace from numpy and matplotlib\n",
      "Populating the interactive namespace from numpy and matplotlib\n",
      "Populating the interactive namespace from numpy and matplotlib\n",
      "Populating the interactive namespace from numpy and matplotlib\n",
      "Populating the interactive namespace from numpy and matplotlib\n"
     ]
    },
    {
     "name": "stderr",
     "output_type": "stream",
     "text": [
      "/Users/jamiesullivan/anaconda3/lib/python3.6/site-packages/IPython/core/magics/pylab.py:161: UserWarning: pylab import has clobbered these variables: ['linalg', 'power', 'norm', 'fft', 'random', 'info']\n",
      "`%matplotlib` prevents importing * from pylab and numpy\n",
      "  \"\\n`%matplotlib` prevents importing * from pylab and numpy\"\n",
      "/Users/jamiesullivan/anaconda3/lib/python3.6/site-packages/IPython/core/magics/pylab.py:161: UserWarning: pylab import has clobbered these variables: ['linalg', 'power', 'fft', 'random', 'info']\n",
      "`%matplotlib` prevents importing * from pylab and numpy\n",
      "  \"\\n`%matplotlib` prevents importing * from pylab and numpy\"\n"
     ]
    }
   ],
   "source": [
    "#importing my functions in an organized manner\n",
    "sys.path.insert(0, '/Users/jamiesullivan/Desktop/FDM/prj_FDM')\n",
    "from Kernels import *\n",
    "from Laplacians import *\n",
    "from Cuts import *\n",
    "from Smoothing import *\n",
    "from Densities import *\n",
    "from Gradients import *\n",
    "from QPressure import *"
   ]
  },
  {
   "cell_type": "code",
   "execution_count": 3,
   "metadata": {},
   "outputs": [
    {
     "name": "stdout",
     "output_type": "stream",
     "text": [
      "cubic_bspline\n"
     ]
    }
   ],
   "source": [
    "#main\n",
    "#specify DM type\n",
    "dmType='cdm'\n",
    "#options are 'cdm', 'fdm21', 'fdm22'\n",
    "\n",
    "#specify kernel via index\n",
    "kernelChoice='cubic_bspline'\n",
    "\n",
    "kernelList = [[cubic_bspline,del_cubic_bspline,lap_cubic_bspline,parth_cubic_bspline], #cubic bspline ->0\n",
    "              [gaussian,del_gaussian,lap_gaussian,parth_gaussian], #gaussian ->1\n",
    "              [quartic_bspline,del_quartic_bspline,lap_quartic_bspline,parth_quartic_bspline], #quartic bspline ->2\n",
    "              [quintic_bspline,del_quintic_bspline,lap_quartic_bspline,parth_quartic_bspline], #quintic bspline ->3\n",
    "              [poly6,del_poly6,lap_poly6,parth_poly6], #poly6 bspline ->4\n",
    "              [wend_C2,del_wend_C2,lap_wend_C2,parth_wend_C2], #wendland C2 ->5\n",
    "              [wend_C4,del_wend_C4,lap_wend_C4,parth_wend_C4], #wendland C4 ->6\n",
    "              [wend_C6,del_wend_C6,lap_wend_C6,parth_wend_C6]] #wendland C6 ->7\n",
    "\n",
    "kernelIndex ={'cubic_bspline':0,'gaussian':1,'quartic_bspline':2,'quintic_bspline':3,'poly6':4,\\\n",
    "              'wend_C2':5,'wend_C4':6,'wend_C6':7}\n",
    "\n",
    "kernel = kernelList[kernelIndex.get(kernelChoice)][0]\n",
    "del_kernel = kernelList[kernelIndex.get(kernelChoice)][1]\n",
    "delsq_kernel = kernelList[kernelIndex.get(kernelChoice)][2]\n",
    "parth_kernel = kernelList[kernelIndex.get(kernelChoice)][3]\n",
    "#options are cubic_bspline, gaussian, quartic_bspline, quintic_bspline, poly6, wend_C2, wend_C4, wend_C6\n",
    "print(kernelChoice)\n",
    "\n",
    "\n",
    "#specify laplacian\n",
    "\n",
    "#options are naiveLaplace, brookLaplace, nbLaplace\n"
   ]
  },
  {
   "cell_type": "code",
   "execution_count": 4,
   "metadata": {
    "collapsed": true
   },
   "outputs": [],
   "source": [
    "#import data\n",
    "#specify sim run\n",
    "dataDM = np.loadtxt(dmType+'_dm.txt',skiprows=1)"
   ]
  },
  {
   "cell_type": "code",
   "execution_count": 5,
   "metadata": {
    "collapsed": true
   },
   "outputs": [],
   "source": [
    "#cut function call\n",
    "cutDataMin,radMin,rMinSearch,cutDataMax,radMax,rMaxSearch = Cuts(dataDM)"
   ]
  },
  {
   "cell_type": "code",
   "execution_count": 6,
   "metadata": {
    "collapsed": true
   },
   "outputs": [],
   "source": [
    "#smoothing function call\n",
    "hMin,hMax = Smoothing(cutDataMin,cutDataMax,rMinSearch,rMaxSearch)"
   ]
  },
  {
   "cell_type": "code",
   "execution_count": 7,
   "metadata": {
    "collapsed": true
   },
   "outputs": [],
   "source": [
    "#density function call\n",
    "rhoMin,rhoMax = Densities(kernel, cutDataMin, hMin, cutDataMax, hMax)"
   ]
  },
  {
   "cell_type": "code",
   "execution_count": 8,
   "metadata": {
    "collapsed": true
   },
   "outputs": [],
   "source": [
    "#density gradient and laplacian function call\n",
    "del_rhoMin, delsq_rhoMin, del_rhoMax, delsq_rhoMax = Gradients(del_kernel,delsq_kernel,cutDataMin,rhoMin,\\\n",
    "                                                             cutDataMax,rhoMax,hMin,hMax)"
   ]
  },
  {
   "cell_type": "code",
   "execution_count": 9,
   "metadata": {
    "collapsed": true
   },
   "outputs": [],
   "source": [
    "#QP function call\n",
    "Q_rhoMin,accelQ_rhoMin,Q_rhoMax,accelQ_rhoMax  = QPressure(del_kernel,parth_kernel,rhoMin,rhoMax,\\\n",
    "                                                 del_rhoMin,del_rhoMax,delsq_rhoMin,delsq_rhoMax,\\\n",
    "                                                 hMin,hMax,cutDataMin,cutDataMax)#*(1e12)*(1/.67**2) #conversion factor"
   ]
  },
  {
   "cell_type": "code",
   "execution_count": null,
   "metadata": {
    "collapsed": true
   },
   "outputs": [],
   "source": [
    "np.savetxt('Qmin.data',Q_rhoMin)\n",
    "np.savetxt('Qmax.data',Q_rhoMax)"
   ]
  }
 ],
 "metadata": {
  "kernelspec": {
   "display_name": "Python 3",
   "language": "python",
   "name": "python3"
  },
  "language_info": {
   "codemirror_mode": {
    "name": "ipython",
    "version": 3
   },
   "file_extension": ".py",
   "mimetype": "text/x-python",
   "name": "python",
   "nbconvert_exporter": "python",
   "pygments_lexer": "ipython3",
   "version": "3.6.1"
  }
 },
 "nbformat": 4,
 "nbformat_minor": 2
}
